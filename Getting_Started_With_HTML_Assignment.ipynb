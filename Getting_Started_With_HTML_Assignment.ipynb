{
  "nbformat": 4,
  "nbformat_minor": 0,
  "metadata": {
    "colab": {
      "provenance": []
    },
    "kernelspec": {
      "name": "python3",
      "display_name": "Python 3"
    },
    "language_info": {
      "name": "python"
    }
  },
  "cells": [
    {
      "cell_type": "markdown",
      "source": [
        " # **Q1. Write a simple program in HTML that displays the heading \"HTML defines the content and structure of your website” on the web browser ?**"
      ],
      "metadata": {
        "id": "MvauKrubWbZO"
      }
    },
    {
      "cell_type": "code",
      "source": [
        "<!DOCTYPE html>\n",
        "<html lang=\"en\">\n",
        "<head>\n",
        "    <meta charset=\"UTF-8\">\n",
        "    <meta name=\"viewport\" content=\"width=device-width, initial-scale=1.0\">\n",
        "    <title>Getting Started With HTML</title>\n",
        "</head>\n",
        "<body>\n",
        "    <h1>HTML defines the content and structure of your website</h1>\n",
        "</body>\n",
        "</html>"
      ],
      "metadata": {
        "id": "Gcp6VaCaWXf2"
      },
      "execution_count": null,
      "outputs": []
    },
    {
      "cell_type": "markdown",
      "source": [
        " # **Q2. Explain the purpose of comments in HTML and provide an example of how to use comments in an HTML document?**\n",
        "\n",
        " - Comments in HTML are used to add notes within the code that are not visible on the webpage but help developers understand the structure, purpose, or functionality of the code. They are useful for:\n",
        "    - **Documentation** - Explaining the purpose of a section of code.\n",
        "    - **Debugging** - Temporarily disabling parts of the code without deleting them.\n",
        "    - **Collaboration** - Helping other developers understand your code.\n",
        "    - **Future Reference** - Making it easier to modify or update the code later.\n",
        "\n",
        "     **For Example:**"
      ],
      "metadata": {
        "id": "DHdzPBFzWygh"
      }
    },
    {
      "cell_type": "code",
      "source": [
        "<!DOCTYPE html>\n",
        "<html lang=\"en\">\n",
        "<head>\n",
        "    <meta charset=\"UTF-8\">\n",
        "    <meta name=\"viewport\" content=\"width=device-width, initial-scale=1.0\">\n",
        "    <title>HTML Comments Example</title>\n",
        "</head>\n",
        "<body>\n",
        "\n",
        "    <!-- This is a heading for the webpage -->\n",
        "    <h1>Welcome to My Website</h1>\n",
        "\n",
        "    <!-- The paragraph below gives a brief introduction -->\n",
        "    <p>This website is about getting started with HTML</p>\n",
        "\n",
        "</body>\n",
        "</html>"
      ],
      "metadata": {
        "id": "B5ws23IhXwFY"
      },
      "execution_count": null,
      "outputs": []
    },
    {
      "cell_type": "markdown",
      "source": [
        "# **Q3. Write an HTML program that includes a heading, a paragraph of text, a horizontal line, and a line break. Arrange these elements to create a simple web page layout?**"
      ],
      "metadata": {
        "id": "eZfE7qX0YMuL"
      }
    },
    {
      "cell_type": "code",
      "source": [
        "<!DOCTYPE html>\n",
        "<html lang=\"en\">\n",
        "<head>\n",
        "    <meta charset=\"UTF-8\">\n",
        "    <meta name=\"viewport\" content=\"width=device-width, initial-scale=1.0\">\n",
        "    <title>Getting Started with HTML</title>\n",
        "</head>\n",
        "<body>\n",
        "\n",
        "    <!-- Heading -->\n",
        "    <h1>Welcome to Getting started with HTML webpage</h1>\n",
        "\n",
        "    <!-- Paragraph -->\n",
        "    <p>This is a basic HTML webpage layout. It contains a heading, a paragraph, a horizontal line, and a line break.</p>\n",
        "\n",
        "    <!-- Horizontal Line -->\n",
        "    <hr>\n",
        "\n",
        "    <!-- Another Paragraph with Line Break -->\n",
        "    <p>Here is some more text.<br>This text appears on a new line because of the line break tag.</p>\n",
        "\n",
        "</body>\n",
        "</html>"
      ],
      "metadata": {
        "id": "utRKtvOjZOvB"
      },
      "execution_count": null,
      "outputs": []
    },
    {
      "cell_type": "markdown",
      "source": [
        "# **Q4. Write a short note on Tag and element with an example?**\n",
        "\n",
        "- **HTML Tag:**\n",
        "    - A tag is a keyword enclosed within angle brackets (<>). It defines the structure and meaning of the content in an HTML document. Tags are used to create elements.\n",
        "        - **Types of Tags:**\n",
        "            - Opening Tag: Marks the beginning of an element. Example: (&lt;p&gt;)\n",
        "            - Closing Tag: Marks the end of an element. Example: (&lt;/p&gt;)\n",
        "            - Self-Closing Tag: Does not have a closing pair. Example: (&lt;br&gt;)\n",
        "- **HTML Element:**\n",
        "    - An element consists of an opening tag, content, and a closing tag (except for self-closing tags). It represents a part of the webpage, like headings, paragraphs, images, etc.\n",
        "\n",
        "     Example of a Opening and Closing Element:\n",
        "\n",
        "        - &lt;p&gt;This is a paragraph.&lt;/p&gt;\n",
        "\n",
        "            - &lt;p&gt; → Opening Tag\n",
        "            - This is a paragraph. → Content\n",
        "            - &lt;/p&gt; → Closing Tag\n",
        "\n",
        "     Example of a Self-Closing Element:\n",
        "        - &lt;img src=\"image.jpg\" alt=\"An example image\"&gt;\n",
        "            - &lt;img&gt; → Self Closing Tag\n",
        "            - src & alt → These are attributes."
      ],
      "metadata": {
        "id": "_PEfRjjIZluF"
      }
    },
    {
      "cell_type": "markdown",
      "source": [
        "# **Q5. What is the DOCTYPE Declaration in HTML?**\n",
        "\n",
        "- The DOCTYPE declaration is an instruction at the very beginning of an HTML document that tells the web browser which version of HTML is being used. It ensures that the browser renders the page correctly.\n",
        "\n",
        "  Syntax:\n",
        "      <!DOCTYPE html>\n",
        "\n",
        "  - Purpose of DOCTYPE Declaration:\n",
        "      - Defines the HTML Version : Ensures the browser interprets the code using the correct HTML standard.\n",
        "      - Improves Page Consistency : Ensures web pages look the same across different browsers."
      ],
      "metadata": {
        "id": "yvYZgER1c2Ko"
      }
    }
  ]
}